{
 "cells": [
  {
   "cell_type": "code",
   "execution_count": 31,
   "metadata": {},
   "outputs": [],
   "source": [
    "import glob\n",
    "import subprocess\n",
    "from io import TextIOWrapper"
   ]
  },
  {
   "cell_type": "code",
   "execution_count": 56,
   "metadata": {},
   "outputs": [],
   "source": [
    "degrees_file = \"data/frmtodeg/degrees.txt\"\n",
    "runtimes_file = \"data/runtimes.txt\""
   ]
  },
  {
   "cell_type": "code",
   "execution_count": 43,
   "metadata": {},
   "outputs": [],
   "source": [
    "def read_runtime(skip):\n",
    "    with open(runtimes_file) as runtimes:\n",
    "        for x in range(skip):\n",
    "            runtimes.readline()\n",
    "        return runtimes.readline()"
   ]
  },
  {
   "cell_type": "code",
   "execution_count": 94,
   "metadata": {},
   "outputs": [],
   "source": [
    "def benchmark(iteration, links_file, ranks_file):\n",
    "    cmd = \"cat {} {} {} | ./pr_naive -r 2 -t {}\".format(links_file, degrees_file, ranks_file, runtimes_file)\n",
    "    print(cmd)\n",
    "    with subprocess.Popen(cmd, shell=True, stdout=subprocess.PIPE, encoding=\"utf8\") as proc:\n",
    "        output, errors = proc.communicate()\n",
    "        return (read_runtime(1), output)"
   ]
  },
  {
   "cell_type": "code",
   "execution_count": 107,
   "metadata": {},
   "outputs": [],
   "source": [
    "def calculate_initial_ranks():\n",
    "    with open(degrees_file) as degrees:\n",
    "        pages = degrees.read().count(\",\") + 1\n",
    "        return [str(1 / pages * 1000000) for _ in range(pages)]"
   ]
  },
  {
   "cell_type": "code",
   "execution_count": 108,
   "metadata": {},
   "outputs": [],
   "source": [
    "# Prepare the benchmark runtimes\n",
    "runtimes = []\n",
    "    \n",
    "# Calculate the initial ranks\n",
    "with open(\"data/initial_ranks.txt\", \"w\") as initial_ranks_file:\n",
    "    initial_ranks_file.write('[{}]'.format(','.join(calculate_initial_ranks())))"
   ]
  },
  {
   "cell_type": "code",
   "execution_count": null,
   "metadata": {},
   "outputs": [
    {
     "name": "stdout",
     "output_type": "stream",
     "text": [
      "Running iteration 0\n",
      "cat data/frmtodeg/link0.txt data/frmtodeg/degrees.txt data/initial_ranks.txt | ./pr_naive -r 2 -t data/runtimes.txt\n",
      "Running iteration 1\n",
      "cat data/frmtodeg/link1.txt data/frmtodeg/degrees.txt data/ranks1.txt | ./pr_naive -r 2 -t data/runtimes.txt\n",
      "Running iteration 2\n",
      "cat data/frmtodeg/link2.txt data/frmtodeg/degrees.txt data/ranks2.txt | ./pr_naive -r 2 -t data/runtimes.txt\n"
     ]
    }
   ],
   "source": [
    "# Run the benchmark\n",
    "for index, links_file in enumerate(glob.iglob(\"data/frmtodeg/link*.txt\")):\n",
    "    print(\"Running iteration {}\".format(index))\n",
    "    if index == 0:\n",
    "        ranks_file = \"data/initial_ranks.txt\"\n",
    "    else:\n",
    "        ranks_file = \"data/ranks{}.txt\".format(index)\n",
    "    (runtime, new_ranks) = benchmark(index, links_file, ranks_file)\n",
    "    runtimes.append(runtime)\n",
    "    with open(\"data/ranks{}.txt\".format(index + 1), \"w\") as new_ranks_file:\n",
    "        new_ranks_file.write(new_ranks)"
   ]
  },
  {
   "cell_type": "code",
   "execution_count": 93,
   "metadata": {},
   "outputs": [
    {
     "data": {
      "text/plain": [
       "['',\n",
       " '',\n",
       " '',\n",
       " '',\n",
       " '',\n",
       " '',\n",
       " '',\n",
       " '',\n",
       " '',\n",
       " '',\n",
       " '',\n",
       " '',\n",
       " '',\n",
       " '',\n",
       " '',\n",
       " '',\n",
       " '',\n",
       " '',\n",
       " '',\n",
       " '',\n",
       " '',\n",
       " '',\n",
       " '',\n",
       " '',\n",
       " '',\n",
       " '',\n",
       " '',\n",
       " '',\n",
       " '',\n",
       " '',\n",
       " '',\n",
       " '',\n",
       " '',\n",
       " '',\n",
       " '',\n",
       " '',\n",
       " '',\n",
       " '',\n",
       " '',\n",
       " '',\n",
       " '',\n",
       " '',\n",
       " '',\n",
       " '',\n",
       " '',\n",
       " '',\n",
       " '',\n",
       " '',\n",
       " '',\n",
       " '',\n",
       " '',\n",
       " '',\n",
       " '',\n",
       " '',\n",
       " '',\n",
       " '',\n",
       " '',\n",
       " '',\n",
       " '',\n",
       " '',\n",
       " '',\n",
       " '',\n",
       " '',\n",
       " '',\n",
       " '',\n",
       " '',\n",
       " '',\n",
       " '',\n",
       " '',\n",
       " '',\n",
       " '',\n",
       " '',\n",
       " '',\n",
       " '',\n",
       " '',\n",
       " '',\n",
       " '',\n",
       " '',\n",
       " '',\n",
       " '',\n",
       " '',\n",
       " '',\n",
       " '',\n",
       " '',\n",
       " '',\n",
       " '',\n",
       " '',\n",
       " '',\n",
       " '',\n",
       " '',\n",
       " '',\n",
       " '',\n",
       " '',\n",
       " '',\n",
       " '',\n",
       " '',\n",
       " '',\n",
       " '',\n",
       " '',\n",
       " '',\n",
       " '',\n",
       " '',\n",
       " '',\n",
       " '',\n",
       " '',\n",
       " '',\n",
       " '',\n",
       " '',\n",
       " '',\n",
       " '',\n",
       " '',\n",
       " '',\n",
       " '',\n",
       " '',\n",
       " '',\n",
       " '',\n",
       " '',\n",
       " '',\n",
       " '',\n",
       " '',\n",
       " '',\n",
       " '',\n",
       " '',\n",
       " '',\n",
       " '',\n",
       " '',\n",
       " '',\n",
       " '',\n",
       " '',\n",
       " '',\n",
       " '']"
      ]
     },
     "execution_count": 93,
     "metadata": {},
     "output_type": "execute_result"
    }
   ],
   "source": [
    "import numpy as np\n",
    "runtimes"
   ]
  }
 ],
 "metadata": {
  "kernelspec": {
   "display_name": "Python 3",
   "language": "python",
   "name": "python3"
  },
  "language_info": {
   "codemirror_mode": {
    "name": "ipython",
    "version": 3
   },
   "file_extension": ".py",
   "mimetype": "text/x-python",
   "name": "python",
   "nbconvert_exporter": "python",
   "pygments_lexer": "ipython3",
   "version": "3.6.4rc1"
  }
 },
 "nbformat": 4,
 "nbformat_minor": 2
}
